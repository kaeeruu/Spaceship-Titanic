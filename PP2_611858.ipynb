{
  "nbformat": 4,
  "nbformat_minor": 0,
  "metadata": {
    "colab": {
      "provenance": []
    },
    "kernelspec": {
      "name": "python3",
      "display_name": "Python 3"
    },
    "language_info": {
      "name": "python"
    }
  },
  "cells": [
    {
      "cell_type": "code",
      "source": [
        "import warnings\n",
        "warnings.simplefilter(action='ignore', category=FutureWarning)"
      ],
      "metadata": {
        "id": "5GeY1YS179w1"
      },
      "execution_count": 135,
      "outputs": []
    },
    {
      "cell_type": "markdown",
      "source": [
        "# **P P2. Clasificación**"
      ],
      "metadata": {
        "id": "ZgadEdTKfGDY"
      }
    },
    {
      "cell_type": "markdown",
      "source": [
        "**1.** Primero, se importan los datos de entrenamiento y prueba al ambiente de trabajo utilizando la librería pandas.\n",
        "\n",
        "A continuación, se exploran las características de la base de datos imprimiendo primero un resumen de la base, después el tipo de datos, qué variables son cualitativas y cuales cuantitativas y cuántas son de cada una, y el porcentaje de huecos en cada variable."
      ],
      "metadata": {
        "id": "VMJCk_L6fG2m"
      }
    },
    {
      "cell_type": "code",
      "execution_count": 136,
      "metadata": {
        "colab": {
          "base_uri": "https://localhost:8080/"
        },
        "id": "Q2LMEzQqur12",
        "outputId": "d306e9b9-c33e-43b4-c7e4-9db3d6131a1e"
      },
      "outputs": [
        {
          "output_type": "stream",
          "name": "stdout",
          "text": [
            "Resumen del dataframe:\n",
            "  PassengerId HomePlanet CryoSleep  Cabin  Destination   Age    VIP  \\\n",
            "0     0001_01     Europa     False  B/0/P  TRAPPIST-1e  39.0  False   \n",
            "1     0002_01      Earth     False  F/0/S  TRAPPIST-1e  24.0  False   \n",
            "2     0003_01     Europa     False  A/0/S  TRAPPIST-1e  58.0   True   \n",
            "3     0003_02     Europa     False  A/0/S  TRAPPIST-1e  33.0  False   \n",
            "4     0004_01      Earth     False  F/1/S  TRAPPIST-1e  16.0  False   \n",
            "\n",
            "   RoomService  FoodCourt  ShoppingMall     Spa  VRDeck               Name  \\\n",
            "0          0.0        0.0           0.0     0.0     0.0    Maham Ofracculy   \n",
            "1        109.0        9.0          25.0   549.0    44.0       Juanna Vines   \n",
            "2         43.0     3576.0           0.0  6715.0    49.0      Altark Susent   \n",
            "3          0.0     1283.0         371.0  3329.0   193.0       Solam Susent   \n",
            "4        303.0       70.0         151.0   565.0     2.0  Willy Santantines   \n",
            "\n",
            "   Transported  \n",
            "0        False  \n",
            "1         True  \n",
            "2        False  \n",
            "3        False  \n",
            "4         True  \n",
            "\n",
            "Tipos de datos:\n",
            "PassengerId      object\n",
            "HomePlanet       object\n",
            "CryoSleep        object\n",
            "Cabin            object\n",
            "Destination      object\n",
            "Age             float64\n",
            "VIP              object\n",
            "RoomService     float64\n",
            "FoodCourt       float64\n",
            "ShoppingMall    float64\n",
            "Spa             float64\n",
            "VRDeck          float64\n",
            "Name             object\n",
            "Transported        bool\n",
            "dtype: object\n",
            "Número total de variables: 14\n",
            "\n",
            "Variables cualitativas:\n",
            "['PassengerId', 'HomePlanet', 'CryoSleep', 'Cabin', 'Destination', 'VIP', 'Name', 'Transported']\n",
            "\n",
            "Variables cuantitativas:\n",
            "['Age', 'RoomService', 'FoodCourt', 'ShoppingMall', 'Spa', 'VRDeck']\n",
            "\n",
            "train:\n",
            "              Huecos  Porcentaje (%)\n",
            "CryoSleep        217        2.496261\n",
            "ShoppingMall     208        2.392730\n",
            "VIP              203        2.335212\n",
            "HomePlanet       201        2.312205\n",
            "Name             200        2.300702\n",
            "Cabin            199        2.289198\n",
            "VRDeck           188        2.162660\n",
            "FoodCourt        183        2.105142\n",
            "Spa              183        2.105142\n",
            "Destination      182        2.093639\n",
            "RoomService      181        2.082135\n",
            "Age              179        2.059128\n",
            "\n",
            "test:\n",
            "              Huecos  Porcentaje (%)\n",
            "FoodCourt        106        2.478373\n",
            "Spa              101        2.361468\n",
            "Cabin            100        2.338087\n",
            "ShoppingMall      98        2.291326\n",
            "Name              94        2.197802\n",
            "VIP               93        2.174421\n",
            "CryoSleep         93        2.174421\n",
            "Destination       92        2.151040\n",
            "Age               91        2.127660\n",
            "HomePlanet        87        2.034136\n",
            "RoomService       82        1.917232\n",
            "VRDeck            80        1.870470\n"
          ]
        }
      ],
      "source": [
        "import pandas as pd\n",
        "\n",
        "df = pd.read_csv('train.csv')\n",
        "df_test = pd.read_csv('test.csv')\n",
        "\n",
        "combine = [df, df_test]\n",
        "\n",
        "print(\"Resumen del dataframe:\")\n",
        "print(df.head())\n",
        "\n",
        "print(\"\\nTipos de datos:\")\n",
        "print(df.dtypes)\n",
        "\n",
        "qualitative = []\n",
        "quantitative = []\n",
        "\n",
        "for col in df.columns:\n",
        "  if df[col].dtype == 'object' or df[col].dtype == 'bool':\n",
        "    qualitative.append(col)\n",
        "  elif pd.api.types.is_numeric_dtype(df[col]):\n",
        "    quantitative.append(col)\n",
        "\n",
        "print(f\"Número total de variables: {df.shape[1]}\")\n",
        "print(\"\\nVariables cualitativas:\")\n",
        "print(qualitative)\n",
        "\n",
        "print(\"\\nVariables cuantitativas:\")\n",
        "print(quantitative)\n",
        "\n",
        "missing_values = df.isnull().sum()\n",
        "missing_percent = (missing_values / len(df)) * 100\n",
        "\n",
        "missing_values_test = df_test.isnull().sum()\n",
        "missing_percent_test = (missing_values_test / len(df_test)) * 100\n",
        "\n",
        "missing_df = pd.DataFrame({\n",
        "    'Huecos': missing_values,\n",
        "    'Porcentaje (%)': missing_percent\n",
        "})\n",
        "\n",
        "missing_df_test = pd.DataFrame({\n",
        "    'Huecos': missing_values_test,\n",
        "    'Porcentaje (%)': missing_percent_test\n",
        "})\n",
        "\n",
        "print(\"\\ntrain:\")\n",
        "print(missing_df[missing_df['Huecos'] > 0].sort_values(by='Huecos', ascending=False))\n",
        "\n",
        "print(\"\\ntest:\")\n",
        "print(missing_df_test[missing_df_test['Huecos'] > 0].sort_values(by='Huecos', ascending=False))"
      ]
    },
    {
      "cell_type": "markdown",
      "source": [
        "# **Relleno de Huecos**"
      ],
      "metadata": {
        "id": "znDeoZpC-CP2"
      }
    },
    {
      "cell_type": "markdown",
      "source": [
        "Para limpiar la base de datos en cuanto a huecos, a continuación se rellenan los huecos utilizando la media para variables cuantitativas y la moda para variables cualitativas.\n",
        "Estos cambios se realizan tanto en los datos de entrenamiento como en los de prueba, para rellenar huecos en ambos datasets. Para esto se crea una variable combine que incluya ambos datasets y se modifican ambos al mismo tiempo."
      ],
      "metadata": {
        "id": "-0cXfp41fJtY"
      }
    },
    {
      "cell_type": "code",
      "source": [
        "group_mode_cols = ['HomePlanet', 'Destination', 'CryoSleep', 'VIP']\n",
        "\n",
        "group_median_cols = ['Age', 'RoomService', 'FoodCourt', 'ShoppingMall', 'Spa', 'VRDeck']\n",
        "\n",
        "for dataset in combine:\n",
        "  for col in group_mode_cols:\n",
        "    dataset[col] = dataset[col].fillna(dataset[col].mode()[0])\n",
        "\n",
        "  for col in group_median_cols:\n",
        "    dataset[col] = dataset[col].fillna(dataset[col].median())\n",
        "\n",
        "print(\"Huecos en variables:\")\n",
        "print(df.isnull().sum())"
      ],
      "metadata": {
        "id": "aoLhCoIn38Vs",
        "colab": {
          "base_uri": "https://localhost:8080/"
        },
        "outputId": "f7d64863-fd31-48c2-a858-81589f1d84f4"
      },
      "execution_count": 137,
      "outputs": [
        {
          "output_type": "stream",
          "name": "stdout",
          "text": [
            "Huecos en variables:\n",
            "PassengerId       0\n",
            "HomePlanet        0\n",
            "CryoSleep         0\n",
            "Cabin           199\n",
            "Destination       0\n",
            "Age               0\n",
            "VIP               0\n",
            "RoomService       0\n",
            "FoodCourt         0\n",
            "ShoppingMall      0\n",
            "Spa               0\n",
            "VRDeck            0\n",
            "Name            200\n",
            "Transported       0\n",
            "dtype: int64\n"
          ]
        }
      ]
    },
    {
      "cell_type": "markdown",
      "source": [
        "# **Feature Engineering**"
      ],
      "metadata": {
        "id": "Kbne4hN2996D"
      }
    },
    {
      "cell_type": "markdown",
      "source": [
        "Para mejorar el nivel de predicción del modelo, se utilizan algunos métodos de feature engineering en las variables.\n",
        "\n",
        "Primero, en la variable 'Cabin', se separan 3 variables apartir de la división con / que existe en los datos. De esta variable se extraen 'CabinDeck', 'CabinNum' y 'CabinSide'. Una vez extraídas, se mapean de letras a números los datos de 'CabinDeck' y de 'CabinSide'."
      ],
      "metadata": {
        "id": "fCUT73jafzPs"
      }
    },
    {
      "cell_type": "code",
      "source": [
        "for dataset in combine:\n",
        "  dataset['Cabin'] = dataset['Cabin'].fillna('Unknown/0/U')\n",
        "\n",
        "  dataset[['CabinDeck', 'CabinNum', 'CabinSide']] = dataset['Cabin'].str.split('/', expand=True)\n",
        "\n",
        "  dataset['CabinNum'] = pd.to_numeric(dataset['CabinNum'], errors='coerce')\n",
        "\n",
        "deck_mapping = {\"B\": 1, \"C\": 1, \"G\": 2,\"Unknown\": 2, \"A\": 2, \"F\": 3, \"D\": 3, \"E\": 4, \"T\": 5}\n",
        "for dataset in combine:\n",
        "    dataset['CabinDeck'] = dataset['CabinDeck'].map(deck_mapping)\n",
        "\n",
        "side_map = {'P':1,'S':0}\n",
        "for dataset in combine:\n",
        "    dataset['CabinSide'] = dataset['CabinSide'].map(side_map)\n",
        "for dataset in combine:\n",
        "    dataset['CabinSide'].fillna(dataset['CabinSide'].mode()[0],inplace=True)"
      ],
      "metadata": {
        "id": "kHspRG5Q-LAD"
      },
      "execution_count": 138,
      "outputs": []
    },
    {
      "cell_type": "markdown",
      "source": [
        "Para la variable 'Age' se generan intervalos de edades utilizando la función cut de pandas y se dividen en 5 grupos denominados 0, 1, 2, 3 y 4 los cuales son parte de una nueva variable llamada AgeBin."
      ],
      "metadata": {
        "id": "bYn3XNaMgeGK"
      }
    },
    {
      "cell_type": "code",
      "source": [
        "for dataset in combine:\n",
        "  dataset['AgeBin'] = pd.cut(dataset['Age'].astype(int), 5)\n",
        "for dataset in combine:\n",
        "  dataset.loc[dataset['Age'] <= 15, 'Age'] = 0\n",
        "  dataset.loc[(dataset['Age'] > 15) & (dataset['Age'] <= 31), 'Age'] = 1\n",
        "  dataset.loc[(dataset['Age'] > 31) & (dataset['Age'] <= 47), 'Age'] = 2\n",
        "  dataset.loc[(dataset['Age'] > 47) & (dataset['Age'] <= 63), 'Age'] = 3\n",
        "  dataset.loc[(dataset['Age'] > 63), 'Age'] = 4\n",
        "  dataset['Age'] = dataset['Age'].astype(int)"
      ],
      "metadata": {
        "id": "lHXMnLqq_hdJ"
      },
      "execution_count": 139,
      "outputs": []
    },
    {
      "cell_type": "markdown",
      "source": [
        "Se crea una varibale llamada 'TotalSpent' la cual incluye todas las variables que incluyen datos sobre gastos económicos para juntarlos en una sola variable."
      ],
      "metadata": {
        "id": "50WqJqdygpjY"
      }
    },
    {
      "cell_type": "code",
      "source": [
        "spending_cols = ['RoomService', 'FoodCourt', 'ShoppingMall', 'Spa', 'VRDeck']\n",
        "for dataset in combine:\n",
        "  dataset['TotalSpent'] = dataset[spending_cols].sum(axis=1)"
      ],
      "metadata": {
        "id": "FhhmGdmo_OKV"
      },
      "execution_count": 140,
      "outputs": []
    },
    {
      "cell_type": "markdown",
      "source": [
        "Una vez obtenido 'TotalSpent', se generan variables nuevas para cada variable de gasto y en lugar de la cantidad total se guarda la proporción del total que representa."
      ],
      "metadata": {
        "id": "x8TGIrvh09WN"
      }
    },
    {
      "cell_type": "code",
      "source": [
        "for dataset in combine:\n",
        "    dataset['vr'] = dataset['VRDeck'] / dataset['TotalSpent']\n",
        "    dataset['spa'] = dataset['Spa'] / dataset['TotalSpent']\n",
        "    dataset['room'] = dataset['RoomService'] / dataset['TotalSpent']\n",
        "    dataset['shop'] = dataset['ShoppingMall'] / dataset['TotalSpent']\n",
        "    dataset['food'] = dataset['FoodCourt'] / dataset['TotalSpent']\n",
        "\n",
        "for dataset in combine:\n",
        "    dataset['vr'].fillna(0,inplace = True)\n",
        "    dataset['spa'].fillna(0,inplace = True)\n",
        "    dataset['room'].fillna(0,inplace = True)\n",
        "    dataset['shop'].fillna(0,inplace = True)\n",
        "    dataset['food'].fillna(0,inplace = True)"
      ],
      "metadata": {
        "id": "_KwrfLFmTsjt"
      },
      "execution_count": 141,
      "outputs": []
    },
    {
      "cell_type": "markdown",
      "source": [
        "La variable 'CabinNum' se mapea a variables que describen si pertenece a una de 7 regiones diferentes. Además se crea la variable 'group' que se extrae de la primera parte de la variable original 'PassengerId' antes del \"_\"."
      ],
      "metadata": {
        "id": "zTP55Nbug6MM"
      }
    },
    {
      "cell_type": "code",
      "source": [
        "for dataset in combine:\n",
        "  dataset['region1']=(dataset['CabinNum']<300).astype(int)\n",
        "  dataset['region2']=((dataset['CabinNum']>=300)& (dataset['CabinNum']<600)).astype(int)\n",
        "  dataset['region3']=((dataset['CabinNum']>=600)& (dataset['CabinNum']<900)).astype(int)\n",
        "  dataset['region4']=((dataset['CabinNum']>=900)& (dataset['CabinNum']<1200)).astype(int)\n",
        "  dataset['region5']=((dataset['CabinNum']>=1200)& (dataset['CabinNum']<1500)).astype(int)\n",
        "  dataset['region6']=((dataset['CabinNum']>=1500)& (dataset['CabinNum']<1800)).astype(int)\n",
        "  dataset['region7']=(dataset['CabinNum']>1800).astype(int)\n",
        "\n",
        "for dataset in combine:\n",
        "  dataset['group'] = dataset.PassengerId.apply(lambda x:x.split('_')[0])\n",
        "  dataset['group'] = dataset['group'].astype(int)"
      ],
      "metadata": {
        "id": "xTi6SrL2R2k4"
      },
      "execution_count": 142,
      "outputs": []
    },
    {
      "cell_type": "markdown",
      "source": [
        "Los métodos de feature engineering fueron tomados de la solución del ususario [PRISCA CHANG](https://www.kaggle.com/code/priscachang/spaceship-titanic-complete-solutions-0-80593#Best-score)"
      ],
      "metadata": {
        "id": "ks0cfk0nz4D_"
      }
    },
    {
      "cell_type": "markdown",
      "source": [
        "# **Preparación de Datos**"
      ],
      "metadata": {
        "id": "HgqC1m4ZF3Jx"
      }
    },
    {
      "cell_type": "markdown",
      "source": [
        "Una vez teniendo las variables ajustadas, se debe preparar el formato y filtrar las variables para empezar a generar modelos de clasificación.\n",
        "\n",
        "Se borran del dataset todas las variables descriptivas que no tienen poder predictivo o de las cuales ya derivaron nuevas variables, como lo son 'Name', 'Cabin', 'PassengerId', 'AgeBin', 'CabinNum', 'Age', 'RoomService', 'FoodCourt','ShoppingMall','Spa' y'VRDeck'.\n",
        "\n",
        "Inmediatamente después, se utiliza la función get_dummies para transformar todas las variables categóricas a variables booleanas. Y utilizando la función MinMaxScaler se normalizan las variales cuantitativas.\n",
        "\n",
        "Por último, se dividen los datos en entrenamiento y prueba con la función train_test_split con proporción 80/20."
      ],
      "metadata": {
        "id": "egzE2pzPhTdp"
      }
    },
    {
      "cell_type": "code",
      "source": [
        "from sklearn.model_selection import train_test_split\n",
        "from sklearn.preprocessing import MinMaxScaler\n",
        "\n",
        "drop_cols = ['Name', 'Cabin', 'PassengerId', 'AgeBin', 'CabinNum','Age', 'RoomService', 'FoodCourt', 'ShoppingMall', 'Spa', 'VRDeck']\n",
        "\n",
        "df_model = df.drop(columns=drop_cols, errors='ignore')\n",
        "df_test = df_test.drop(columns=drop_cols, errors='ignore')\n",
        "\n",
        "categorical_cols = ['HomePlanet', 'Destination', 'CryoSleep', 'CabinDeck', 'CabinSide']\n",
        "df_model = pd.get_dummies(df_model, columns=categorical_cols)\n",
        "df_model = pd.get_dummies(df_model, columns=['VIP'], drop_first=True)\n",
        "\n",
        "df_test = pd.get_dummies(df_test, columns=categorical_cols)\n",
        "df_test = pd.get_dummies(df_test, columns=['VIP'], drop_first=True)\n",
        "\n",
        "numeric_cols = ['TotalSpent']\n",
        "\n",
        "scaler = MinMaxScaler()\n",
        "df_model[numeric_cols] = scaler.fit_transform(df_model[numeric_cols])\n",
        "df_test[numeric_cols] = scaler.fit_transform(df_test[numeric_cols])\n",
        "\n",
        "X = df_model.drop('Transported', axis=1)\n",
        "y = df_model['Transported']\n",
        "\n",
        "X_train, X_test, y_train, y_test = train_test_split(\n",
        "    X, y, test_size=0.2, stratify=y, random_state=42\n",
        ")\n",
        "\n",
        "print(\"Variables finales:\")\n",
        "for col in X_train.columns:\n",
        "    print(col)"
      ],
      "metadata": {
        "colab": {
          "base_uri": "https://localhost:8080/"
        },
        "id": "6D3DiwxvF56C",
        "outputId": "be0de452-62ee-4295-fd3f-6f716ff55493"
      },
      "execution_count": 143,
      "outputs": [
        {
          "output_type": "stream",
          "name": "stdout",
          "text": [
            "Variables finales:\n",
            "TotalSpent\n",
            "vr\n",
            "spa\n",
            "room\n",
            "shop\n",
            "food\n",
            "region1\n",
            "region2\n",
            "region3\n",
            "region4\n",
            "region5\n",
            "region6\n",
            "region7\n",
            "group\n",
            "HomePlanet_Earth\n",
            "HomePlanet_Europa\n",
            "HomePlanet_Mars\n",
            "Destination_55 Cancri e\n",
            "Destination_PSO J318.5-22\n",
            "Destination_TRAPPIST-1e\n",
            "CryoSleep_False\n",
            "CryoSleep_True\n",
            "CabinDeck_1\n",
            "CabinDeck_2\n",
            "CabinDeck_3\n",
            "CabinDeck_4\n",
            "CabinDeck_5\n",
            "CabinSide_0.0\n",
            "CabinSide_1.0\n",
            "VIP_True\n"
          ]
        }
      ]
    },
    {
      "cell_type": "markdown",
      "source": [
        "# **Modelos**"
      ],
      "metadata": {
        "id": "plwh-MlTJGhs"
      }
    },
    {
      "cell_type": "markdown",
      "source": [
        "**2.** Primero, se entrena un modelo de regresión logística multinomial utilizando la función LogisticRegression con el parámetro multi_class = 'multinomial'. Una vez generado, se prueba su calidad utilizando validación cruzada k-fold con k=5 midiendo el accuracy y obteniendo la media."
      ],
      "metadata": {
        "id": "67sAIx7yjC8L"
      }
    },
    {
      "cell_type": "code",
      "source": [
        "from sklearn.linear_model import LogisticRegression\n",
        "from sklearn.model_selection import cross_val_score\n",
        "import numpy as np\n",
        "\n",
        "log_reg = LogisticRegression(multi_class='multinomial', solver='lbfgs', max_iter=1000)\n",
        "\n",
        "log_reg_scores = cross_val_score(log_reg, X_train, y_train, cv=5, scoring='accuracy')\n",
        "\n",
        "print(\"Logistic Regression Accuracy (5-fold):\")\n",
        "print(log_reg_scores)\n",
        "lg_mean = np.mean(log_reg_scores)\n",
        "print(f\"Mean accuracy: {lg_mean:.4f}\")"
      ],
      "metadata": {
        "colab": {
          "base_uri": "https://localhost:8080/"
        },
        "id": "JieTWI2rJIR9",
        "outputId": "872f6879-b128-4f82-b727-851bb7331047"
      },
      "execution_count": 124,
      "outputs": [
        {
          "output_type": "stream",
          "name": "stderr",
          "text": [
            "/usr/local/lib/python3.11/dist-packages/sklearn/linear_model/_logistic.py:465: ConvergenceWarning: lbfgs failed to converge (status=1):\n",
            "STOP: TOTAL NO. of ITERATIONS REACHED LIMIT.\n",
            "\n",
            "Increase the number of iterations (max_iter) or scale the data as shown in:\n",
            "    https://scikit-learn.org/stable/modules/preprocessing.html\n",
            "Please also refer to the documentation for alternative solver options:\n",
            "    https://scikit-learn.org/stable/modules/linear_model.html#logistic-regression\n",
            "  n_iter_i = _check_optimize_result(\n",
            "/usr/local/lib/python3.11/dist-packages/sklearn/linear_model/_logistic.py:465: ConvergenceWarning: lbfgs failed to converge (status=1):\n",
            "STOP: TOTAL NO. of ITERATIONS REACHED LIMIT.\n",
            "\n",
            "Increase the number of iterations (max_iter) or scale the data as shown in:\n",
            "    https://scikit-learn.org/stable/modules/preprocessing.html\n",
            "Please also refer to the documentation for alternative solver options:\n",
            "    https://scikit-learn.org/stable/modules/linear_model.html#logistic-regression\n",
            "  n_iter_i = _check_optimize_result(\n",
            "/usr/local/lib/python3.11/dist-packages/sklearn/linear_model/_logistic.py:465: ConvergenceWarning: lbfgs failed to converge (status=1):\n",
            "STOP: TOTAL NO. of ITERATIONS REACHED LIMIT.\n",
            "\n",
            "Increase the number of iterations (max_iter) or scale the data as shown in:\n",
            "    https://scikit-learn.org/stable/modules/preprocessing.html\n",
            "Please also refer to the documentation for alternative solver options:\n",
            "    https://scikit-learn.org/stable/modules/linear_model.html#logistic-regression\n",
            "  n_iter_i = _check_optimize_result(\n",
            "/usr/local/lib/python3.11/dist-packages/sklearn/linear_model/_logistic.py:465: ConvergenceWarning: lbfgs failed to converge (status=1):\n",
            "STOP: TOTAL NO. of ITERATIONS REACHED LIMIT.\n",
            "\n",
            "Increase the number of iterations (max_iter) or scale the data as shown in:\n",
            "    https://scikit-learn.org/stable/modules/preprocessing.html\n",
            "Please also refer to the documentation for alternative solver options:\n",
            "    https://scikit-learn.org/stable/modules/linear_model.html#logistic-regression\n",
            "  n_iter_i = _check_optimize_result(\n"
          ]
        },
        {
          "output_type": "stream",
          "name": "stdout",
          "text": [
            "Logistic Regression Accuracy (5-fold):\n",
            "[0.78360891 0.78864127 0.77282531 0.80517613 0.79856115]\n",
            "Mean accuracy: 0.7898\n"
          ]
        },
        {
          "output_type": "stream",
          "name": "stderr",
          "text": [
            "/usr/local/lib/python3.11/dist-packages/sklearn/linear_model/_logistic.py:465: ConvergenceWarning: lbfgs failed to converge (status=1):\n",
            "STOP: TOTAL NO. of ITERATIONS REACHED LIMIT.\n",
            "\n",
            "Increase the number of iterations (max_iter) or scale the data as shown in:\n",
            "    https://scikit-learn.org/stable/modules/preprocessing.html\n",
            "Please also refer to the documentation for alternative solver options:\n",
            "    https://scikit-learn.org/stable/modules/linear_model.html#logistic-regression\n",
            "  n_iter_i = _check_optimize_result(\n"
          ]
        }
      ]
    },
    {
      "cell_type": "markdown",
      "source": [
        "**3.** Después se genera un modelo de LDA e igualmente se realiza un proceso de validación cruzada k-fold, k = 5, midiendo el accuracy y obteniendo la media."
      ],
      "metadata": {
        "id": "bTqf3zZzj34t"
      }
    },
    {
      "cell_type": "code",
      "source": [
        "from sklearn.discriminant_analysis import LinearDiscriminantAnalysis\n",
        "\n",
        "lda = LinearDiscriminantAnalysis()\n",
        "\n",
        "lda_scores = cross_val_score(lda, X_train, y_train, cv=5, scoring='accuracy')\n",
        "\n",
        "print(\"LDA Accuracy (5-fold):\")\n",
        "print(lda_scores)\n",
        "lda_mean = np.mean(lda_scores)\n",
        "print(f\"Mean accuracy: {lda_mean:.4f}\")"
      ],
      "metadata": {
        "colab": {
          "base_uri": "https://localhost:8080/"
        },
        "id": "jw7ns8DOJlRB",
        "outputId": "ea1fb7cb-557a-458d-951f-331b12136bfb"
      },
      "execution_count": 125,
      "outputs": [
        {
          "output_type": "stream",
          "name": "stdout",
          "text": [
            "LDA Accuracy (5-fold):\n",
            "[0.77857656 0.79726815 0.76779295 0.80086269 0.80719424]\n",
            "Mean accuracy: 0.7903\n"
          ]
        }
      ]
    },
    {
      "cell_type": "markdown",
      "source": [
        "**4.** El siguiente modelo es un modelo de árbol de decisión. Igual que los anteriores, se evalua mediante CV k-fold 5, midiendo el accuracy y obteniendo la media."
      ],
      "metadata": {
        "id": "rMOzW__HkJ2R"
      }
    },
    {
      "cell_type": "code",
      "source": [
        "from sklearn.tree import DecisionTreeClassifier\n",
        "\n",
        "tree = DecisionTreeClassifier(random_state=42)\n",
        "\n",
        "tree_scores = cross_val_score(tree, X_train, y_train, cv=5, scoring='accuracy')\n",
        "\n",
        "print(\"Decision Tree Accuracy (5-fold):\")\n",
        "print(tree_scores)\n",
        "dt_mean = np.mean(tree_scores)\n",
        "print(f\"Mean accuracy: {dt_mean:.4f}\")"
      ],
      "metadata": {
        "colab": {
          "base_uri": "https://localhost:8080/"
        },
        "id": "hrqpAp4LJvI8",
        "outputId": "ed63a474-06d4-4e60-837d-2c2fc8271fb2"
      },
      "execution_count": 126,
      "outputs": [
        {
          "output_type": "stream",
          "name": "stdout",
          "text": [
            "Decision Tree Accuracy (5-fold):\n",
            "[0.73903666 0.73687994 0.77066858 0.7620417  0.73381295]\n",
            "Mean accuracy: 0.7485\n"
          ]
        }
      ]
    },
    {
      "cell_type": "markdown",
      "source": [
        "**5.** Por último, se genera un modelo de Random Forests con la función RandomForestClassifier y se evalua con CV k-fold 5, midiendo el accuracy y obteniendo la media."
      ],
      "metadata": {
        "id": "APSYrxQNkV_9"
      }
    },
    {
      "cell_type": "code",
      "source": [
        "from sklearn.ensemble import RandomForestClassifier\n",
        "\n",
        "rf = RandomForestClassifier(n_estimators=100, random_state=42)\n",
        "\n",
        "rf_scores = cross_val_score(rf, X_train, y_train, cv=5, scoring='accuracy')\n",
        "\n",
        "print(\"Random Forest Accuracy (5-fold):\")\n",
        "print(rf_scores)\n",
        "rf_mean = np.mean(rf_scores)\n",
        "print(f\"Mean accuracy: {rf_mean:.4f}\")"
      ],
      "metadata": {
        "colab": {
          "base_uri": "https://localhost:8080/"
        },
        "id": "HDF5u5ZtKFge",
        "outputId": "073591d6-93d8-42d6-95ed-96222268b482"
      },
      "execution_count": 127,
      "outputs": [
        {
          "output_type": "stream",
          "name": "stdout",
          "text": [
            "Random Forest Accuracy (5-fold):\n",
            "[0.78073329 0.78648454 0.80517613 0.79439252 0.79352518]\n",
            "Mean accuracy: 0.7921\n"
          ]
        }
      ]
    },
    {
      "cell_type": "markdown",
      "source": [
        "Para comparar los 4 modelos, se genera un dataframe con el nombre de cada modelo y la media de los valores de accuracy obtenidos."
      ],
      "metadata": {
        "id": "KxSNE31wmNea"
      }
    },
    {
      "cell_type": "code",
      "source": [
        "models = pd.DataFrame({\n",
        "    'Model': ['Regresión Logística Multinomial', 'LDA', 'Árbol de Decisión',\n",
        "              'Random Forest'],\n",
        "    'Score': [lg_mean, lda_mean, dt_mean,\n",
        "              rf_mean]})\n",
        "models.sort_values(by='Score', ascending=False)"
      ],
      "metadata": {
        "colab": {
          "base_uri": "https://localhost:8080/",
          "height": 175
        },
        "id": "0fKF3DsskuXK",
        "outputId": "1d32069b-9ead-41a3-ee2a-dfa363c447fa"
      },
      "execution_count": 128,
      "outputs": [
        {
          "output_type": "execute_result",
          "data": {
            "text/plain": [
              "                             Model     Score\n",
              "3                    Random Forest  0.792062\n",
              "1                              LDA  0.790339\n",
              "0  Regresión Logística Multinomial  0.789763\n",
              "2                Árbol de Decisión  0.748488"
            ],
            "text/html": [
              "\n",
              "  <div id=\"df-270bdc3b-138b-4f38-bcac-0b749709ebb2\" class=\"colab-df-container\">\n",
              "    <div>\n",
              "<style scoped>\n",
              "    .dataframe tbody tr th:only-of-type {\n",
              "        vertical-align: middle;\n",
              "    }\n",
              "\n",
              "    .dataframe tbody tr th {\n",
              "        vertical-align: top;\n",
              "    }\n",
              "\n",
              "    .dataframe thead th {\n",
              "        text-align: right;\n",
              "    }\n",
              "</style>\n",
              "<table border=\"1\" class=\"dataframe\">\n",
              "  <thead>\n",
              "    <tr style=\"text-align: right;\">\n",
              "      <th></th>\n",
              "      <th>Model</th>\n",
              "      <th>Score</th>\n",
              "    </tr>\n",
              "  </thead>\n",
              "  <tbody>\n",
              "    <tr>\n",
              "      <th>3</th>\n",
              "      <td>Random Forest</td>\n",
              "      <td>0.792062</td>\n",
              "    </tr>\n",
              "    <tr>\n",
              "      <th>1</th>\n",
              "      <td>LDA</td>\n",
              "      <td>0.790339</td>\n",
              "    </tr>\n",
              "    <tr>\n",
              "      <th>0</th>\n",
              "      <td>Regresión Logística Multinomial</td>\n",
              "      <td>0.789763</td>\n",
              "    </tr>\n",
              "    <tr>\n",
              "      <th>2</th>\n",
              "      <td>Árbol de Decisión</td>\n",
              "      <td>0.748488</td>\n",
              "    </tr>\n",
              "  </tbody>\n",
              "</table>\n",
              "</div>\n",
              "    <div class=\"colab-df-buttons\">\n",
              "\n",
              "  <div class=\"colab-df-container\">\n",
              "    <button class=\"colab-df-convert\" onclick=\"convertToInteractive('df-270bdc3b-138b-4f38-bcac-0b749709ebb2')\"\n",
              "            title=\"Convert this dataframe to an interactive table.\"\n",
              "            style=\"display:none;\">\n",
              "\n",
              "  <svg xmlns=\"http://www.w3.org/2000/svg\" height=\"24px\" viewBox=\"0 -960 960 960\">\n",
              "    <path d=\"M120-120v-720h720v720H120Zm60-500h600v-160H180v160Zm220 220h160v-160H400v160Zm0 220h160v-160H400v160ZM180-400h160v-160H180v160Zm440 0h160v-160H620v160ZM180-180h160v-160H180v160Zm440 0h160v-160H620v160Z\"/>\n",
              "  </svg>\n",
              "    </button>\n",
              "\n",
              "  <style>\n",
              "    .colab-df-container {\n",
              "      display:flex;\n",
              "      gap: 12px;\n",
              "    }\n",
              "\n",
              "    .colab-df-convert {\n",
              "      background-color: #E8F0FE;\n",
              "      border: none;\n",
              "      border-radius: 50%;\n",
              "      cursor: pointer;\n",
              "      display: none;\n",
              "      fill: #1967D2;\n",
              "      height: 32px;\n",
              "      padding: 0 0 0 0;\n",
              "      width: 32px;\n",
              "    }\n",
              "\n",
              "    .colab-df-convert:hover {\n",
              "      background-color: #E2EBFA;\n",
              "      box-shadow: 0px 1px 2px rgba(60, 64, 67, 0.3), 0px 1px 3px 1px rgba(60, 64, 67, 0.15);\n",
              "      fill: #174EA6;\n",
              "    }\n",
              "\n",
              "    .colab-df-buttons div {\n",
              "      margin-bottom: 4px;\n",
              "    }\n",
              "\n",
              "    [theme=dark] .colab-df-convert {\n",
              "      background-color: #3B4455;\n",
              "      fill: #D2E3FC;\n",
              "    }\n",
              "\n",
              "    [theme=dark] .colab-df-convert:hover {\n",
              "      background-color: #434B5C;\n",
              "      box-shadow: 0px 1px 3px 1px rgba(0, 0, 0, 0.15);\n",
              "      filter: drop-shadow(0px 1px 2px rgba(0, 0, 0, 0.3));\n",
              "      fill: #FFFFFF;\n",
              "    }\n",
              "  </style>\n",
              "\n",
              "    <script>\n",
              "      const buttonEl =\n",
              "        document.querySelector('#df-270bdc3b-138b-4f38-bcac-0b749709ebb2 button.colab-df-convert');\n",
              "      buttonEl.style.display =\n",
              "        google.colab.kernel.accessAllowed ? 'block' : 'none';\n",
              "\n",
              "      async function convertToInteractive(key) {\n",
              "        const element = document.querySelector('#df-270bdc3b-138b-4f38-bcac-0b749709ebb2');\n",
              "        const dataTable =\n",
              "          await google.colab.kernel.invokeFunction('convertToInteractive',\n",
              "                                                    [key], {});\n",
              "        if (!dataTable) return;\n",
              "\n",
              "        const docLinkHtml = 'Like what you see? Visit the ' +\n",
              "          '<a target=\"_blank\" href=https://colab.research.google.com/notebooks/data_table.ipynb>data table notebook</a>'\n",
              "          + ' to learn more about interactive tables.';\n",
              "        element.innerHTML = '';\n",
              "        dataTable['output_type'] = 'display_data';\n",
              "        await google.colab.output.renderOutput(dataTable, element);\n",
              "        const docLink = document.createElement('div');\n",
              "        docLink.innerHTML = docLinkHtml;\n",
              "        element.appendChild(docLink);\n",
              "      }\n",
              "    </script>\n",
              "  </div>\n",
              "\n",
              "\n",
              "<div id=\"df-ce254233-b434-48ac-a5d2-d3dfac8299b4\">\n",
              "  <button class=\"colab-df-quickchart\" onclick=\"quickchart('df-ce254233-b434-48ac-a5d2-d3dfac8299b4')\"\n",
              "            title=\"Suggest charts\"\n",
              "            style=\"display:none;\">\n",
              "\n",
              "<svg xmlns=\"http://www.w3.org/2000/svg\" height=\"24px\"viewBox=\"0 0 24 24\"\n",
              "     width=\"24px\">\n",
              "    <g>\n",
              "        <path d=\"M19 3H5c-1.1 0-2 .9-2 2v14c0 1.1.9 2 2 2h14c1.1 0 2-.9 2-2V5c0-1.1-.9-2-2-2zM9 17H7v-7h2v7zm4 0h-2V7h2v10zm4 0h-2v-4h2v4z\"/>\n",
              "    </g>\n",
              "</svg>\n",
              "  </button>\n",
              "\n",
              "<style>\n",
              "  .colab-df-quickchart {\n",
              "      --bg-color: #E8F0FE;\n",
              "      --fill-color: #1967D2;\n",
              "      --hover-bg-color: #E2EBFA;\n",
              "      --hover-fill-color: #174EA6;\n",
              "      --disabled-fill-color: #AAA;\n",
              "      --disabled-bg-color: #DDD;\n",
              "  }\n",
              "\n",
              "  [theme=dark] .colab-df-quickchart {\n",
              "      --bg-color: #3B4455;\n",
              "      --fill-color: #D2E3FC;\n",
              "      --hover-bg-color: #434B5C;\n",
              "      --hover-fill-color: #FFFFFF;\n",
              "      --disabled-bg-color: #3B4455;\n",
              "      --disabled-fill-color: #666;\n",
              "  }\n",
              "\n",
              "  .colab-df-quickchart {\n",
              "    background-color: var(--bg-color);\n",
              "    border: none;\n",
              "    border-radius: 50%;\n",
              "    cursor: pointer;\n",
              "    display: none;\n",
              "    fill: var(--fill-color);\n",
              "    height: 32px;\n",
              "    padding: 0;\n",
              "    width: 32px;\n",
              "  }\n",
              "\n",
              "  .colab-df-quickchart:hover {\n",
              "    background-color: var(--hover-bg-color);\n",
              "    box-shadow: 0 1px 2px rgba(60, 64, 67, 0.3), 0 1px 3px 1px rgba(60, 64, 67, 0.15);\n",
              "    fill: var(--button-hover-fill-color);\n",
              "  }\n",
              "\n",
              "  .colab-df-quickchart-complete:disabled,\n",
              "  .colab-df-quickchart-complete:disabled:hover {\n",
              "    background-color: var(--disabled-bg-color);\n",
              "    fill: var(--disabled-fill-color);\n",
              "    box-shadow: none;\n",
              "  }\n",
              "\n",
              "  .colab-df-spinner {\n",
              "    border: 2px solid var(--fill-color);\n",
              "    border-color: transparent;\n",
              "    border-bottom-color: var(--fill-color);\n",
              "    animation:\n",
              "      spin 1s steps(1) infinite;\n",
              "  }\n",
              "\n",
              "  @keyframes spin {\n",
              "    0% {\n",
              "      border-color: transparent;\n",
              "      border-bottom-color: var(--fill-color);\n",
              "      border-left-color: var(--fill-color);\n",
              "    }\n",
              "    20% {\n",
              "      border-color: transparent;\n",
              "      border-left-color: var(--fill-color);\n",
              "      border-top-color: var(--fill-color);\n",
              "    }\n",
              "    30% {\n",
              "      border-color: transparent;\n",
              "      border-left-color: var(--fill-color);\n",
              "      border-top-color: var(--fill-color);\n",
              "      border-right-color: var(--fill-color);\n",
              "    }\n",
              "    40% {\n",
              "      border-color: transparent;\n",
              "      border-right-color: var(--fill-color);\n",
              "      border-top-color: var(--fill-color);\n",
              "    }\n",
              "    60% {\n",
              "      border-color: transparent;\n",
              "      border-right-color: var(--fill-color);\n",
              "    }\n",
              "    80% {\n",
              "      border-color: transparent;\n",
              "      border-right-color: var(--fill-color);\n",
              "      border-bottom-color: var(--fill-color);\n",
              "    }\n",
              "    90% {\n",
              "      border-color: transparent;\n",
              "      border-bottom-color: var(--fill-color);\n",
              "    }\n",
              "  }\n",
              "</style>\n",
              "\n",
              "  <script>\n",
              "    async function quickchart(key) {\n",
              "      const quickchartButtonEl =\n",
              "        document.querySelector('#' + key + ' button');\n",
              "      quickchartButtonEl.disabled = true;  // To prevent multiple clicks.\n",
              "      quickchartButtonEl.classList.add('colab-df-spinner');\n",
              "      try {\n",
              "        const charts = await google.colab.kernel.invokeFunction(\n",
              "            'suggestCharts', [key], {});\n",
              "      } catch (error) {\n",
              "        console.error('Error during call to suggestCharts:', error);\n",
              "      }\n",
              "      quickchartButtonEl.classList.remove('colab-df-spinner');\n",
              "      quickchartButtonEl.classList.add('colab-df-quickchart-complete');\n",
              "    }\n",
              "    (() => {\n",
              "      let quickchartButtonEl =\n",
              "        document.querySelector('#df-ce254233-b434-48ac-a5d2-d3dfac8299b4 button');\n",
              "      quickchartButtonEl.style.display =\n",
              "        google.colab.kernel.accessAllowed ? 'block' : 'none';\n",
              "    })();\n",
              "  </script>\n",
              "</div>\n",
              "\n",
              "    </div>\n",
              "  </div>\n"
            ],
            "application/vnd.google.colaboratory.intrinsic+json": {
              "type": "dataframe",
              "summary": "{\n  \"name\": \"models\",\n  \"rows\": 4,\n  \"fields\": [\n    {\n      \"column\": \"Model\",\n      \"properties\": {\n        \"dtype\": \"string\",\n        \"num_unique_values\": 4,\n        \"samples\": [\n          \"LDA\",\n          \"\\u00c1rbol de Decisi\\u00f3n\",\n          \"Random Forest\"\n        ],\n        \"semantic_type\": \"\",\n        \"description\": \"\"\n      }\n    },\n    {\n      \"column\": \"Score\",\n      \"properties\": {\n        \"dtype\": \"number\",\n        \"std\": 0.021139241646298344,\n        \"min\": 0.7484879673543695,\n        \"max\": 0.7920623328799219,\n        \"num_unique_values\": 4,\n        \"samples\": [\n          0.7903389208115893,\n          0.7484879673543695,\n          0.7920623328799219\n        ],\n        \"semantic_type\": \"\",\n        \"description\": \"\"\n      }\n    }\n  ]\n}"
            }
          },
          "metadata": {},
          "execution_count": 128
        }
      ]
    },
    {
      "cell_type": "markdown",
      "source": [
        "Como se puede observar, el modelo más completo y con el cual se obtienen mejores resultados es el modelo de Random Forest, después LDA lo cual indica que los datos son linealmente separables. En antepenúltimo lugar esta la regresión logística multinomial y en último el árbol de decisión lo cual se puede deber a el sobreajuste del modelo ya que no se utilizó ningún tipo de restricción en el modelo."
      ],
      "metadata": {
        "id": "C9vGMXd-mZNV"
      }
    },
    {
      "cell_type": "markdown",
      "source": [
        "**6.** Para realizar las predicciones finales, se decidió utilizar un ensamble de los 4 modelos generados previamente. Para esto se utilizó la función VotingClassifier (ChatGPT) utilizando de estimadores los 4 modelos generados con algunas restricciones en los modelos de árbol de decisión y random forests. Una vez hecho el ensamble. Se mide la media de su accuracy mediante validación cruzada k-fold 5."
      ],
      "metadata": {
        "id": "orNoJjOZ26QO"
      }
    },
    {
      "cell_type": "code",
      "source": [
        "from sklearn.ensemble import VotingClassifier\n",
        "\n",
        "log_final = LogisticRegression(C=10, multi_class='multinomial', solver='lbfgs', max_iter=1000)\n",
        "lda_final = LinearDiscriminantAnalysis()\n",
        "rf_final = RandomForestClassifier(n_estimators=200, max_depth=20, min_samples_split=10, random_state=42)\n",
        "tree_final = DecisionTreeClassifier(max_depth=5, min_samples_split=10, min_samples_leaf=1, random_state=42)\n",
        "\n",
        "ensemble = VotingClassifier(\n",
        "    estimators=[\n",
        "        ('logreg', log_final),\n",
        "        ('lda', lda_final),\n",
        "        ('rf', rf_final),\n",
        "        ('tree', tree_final)\n",
        "    ],\n",
        "    voting='soft'\n",
        ")\n",
        "\n",
        "ensemble_scores = cross_val_score(ensemble, X_train, y_train, cv=5, scoring='accuracy')\n",
        "\n",
        "print(\"Ensemble VotingClassifier Accuracy (5-fold):\")\n",
        "print(ensemble_scores)\n",
        "print(f\"Mean accuracy: {np.mean(ensemble_scores):.4f}\")"
      ],
      "metadata": {
        "colab": {
          "base_uri": "https://localhost:8080/"
        },
        "id": "ndVbm5LCMQbw",
        "outputId": "0c078a06-c268-4f32-accb-89d116244b3e"
      },
      "execution_count": 129,
      "outputs": [
        {
          "output_type": "stream",
          "name": "stderr",
          "text": [
            "/usr/local/lib/python3.11/dist-packages/sklearn/linear_model/_logistic.py:465: ConvergenceWarning: lbfgs failed to converge (status=1):\n",
            "STOP: TOTAL NO. of ITERATIONS REACHED LIMIT.\n",
            "\n",
            "Increase the number of iterations (max_iter) or scale the data as shown in:\n",
            "    https://scikit-learn.org/stable/modules/preprocessing.html\n",
            "Please also refer to the documentation for alternative solver options:\n",
            "    https://scikit-learn.org/stable/modules/linear_model.html#logistic-regression\n",
            "  n_iter_i = _check_optimize_result(\n",
            "/usr/local/lib/python3.11/dist-packages/sklearn/linear_model/_logistic.py:465: ConvergenceWarning: lbfgs failed to converge (status=1):\n",
            "STOP: TOTAL NO. of ITERATIONS REACHED LIMIT.\n",
            "\n",
            "Increase the number of iterations (max_iter) or scale the data as shown in:\n",
            "    https://scikit-learn.org/stable/modules/preprocessing.html\n",
            "Please also refer to the documentation for alternative solver options:\n",
            "    https://scikit-learn.org/stable/modules/linear_model.html#logistic-regression\n",
            "  n_iter_i = _check_optimize_result(\n",
            "/usr/local/lib/python3.11/dist-packages/sklearn/linear_model/_logistic.py:465: ConvergenceWarning: lbfgs failed to converge (status=1):\n",
            "STOP: TOTAL NO. of ITERATIONS REACHED LIMIT.\n",
            "\n",
            "Increase the number of iterations (max_iter) or scale the data as shown in:\n",
            "    https://scikit-learn.org/stable/modules/preprocessing.html\n",
            "Please also refer to the documentation for alternative solver options:\n",
            "    https://scikit-learn.org/stable/modules/linear_model.html#logistic-regression\n",
            "  n_iter_i = _check_optimize_result(\n",
            "/usr/local/lib/python3.11/dist-packages/sklearn/linear_model/_logistic.py:465: ConvergenceWarning: lbfgs failed to converge (status=1):\n",
            "STOP: TOTAL NO. of ITERATIONS REACHED LIMIT.\n",
            "\n",
            "Increase the number of iterations (max_iter) or scale the data as shown in:\n",
            "    https://scikit-learn.org/stable/modules/preprocessing.html\n",
            "Please also refer to the documentation for alternative solver options:\n",
            "    https://scikit-learn.org/stable/modules/linear_model.html#logistic-regression\n",
            "  n_iter_i = _check_optimize_result(\n",
            "/usr/local/lib/python3.11/dist-packages/sklearn/linear_model/_logistic.py:465: ConvergenceWarning: lbfgs failed to converge (status=1):\n",
            "STOP: TOTAL NO. of ITERATIONS REACHED LIMIT.\n",
            "\n",
            "Increase the number of iterations (max_iter) or scale the data as shown in:\n",
            "    https://scikit-learn.org/stable/modules/preprocessing.html\n",
            "Please also refer to the documentation for alternative solver options:\n",
            "    https://scikit-learn.org/stable/modules/linear_model.html#logistic-regression\n",
            "  n_iter_i = _check_optimize_result(\n"
          ]
        },
        {
          "output_type": "stream",
          "name": "stdout",
          "text": [
            "Ensemble VotingClassifier Accuracy (5-fold):\n",
            "[0.78792236 0.80805176 0.78864127 0.80445723 0.80503597]\n",
            "Mean accuracy: 0.7988\n"
          ]
        }
      ]
    },
    {
      "cell_type": "markdown",
      "source": [
        "Para preparar las predicciones, se entrena el modelo con los datos de entrenamiento, después se utilizan los datos de test para generar las predicciones y se guardan en la variable y_hats.\n",
        "\n",
        "Por último se utiliza la función DataFrame y to_csv y se genera un archivo csv con base a la plantilla de submisiones para generar el archivo a subir."
      ],
      "metadata": {
        "id": "F3pMyfwM3t4-"
      }
    },
    {
      "cell_type": "code",
      "source": [
        "preds_class = ensemble.fit(X_train, y_train)\n",
        "x_test_final = df_test.copy()\n",
        "y_hats = ensemble.predict(x_test_final)\n",
        "y_hats = y_hats.T\n",
        "print(y_hats)\n",
        "\n",
        "test_df = pd.read_csv('sample_submission.csv')\n",
        "submission = pd.DataFrame({\n",
        "    'PassengerId': test_df['PassengerId'],\n",
        "    'Transported': y_hats\n",
        "})\n",
        "submission.to_csv('submission.csv', index=False)"
      ],
      "metadata": {
        "colab": {
          "base_uri": "https://localhost:8080/"
        },
        "id": "-VN4qR3Bc7Qh",
        "outputId": "3aa49a48-1c42-4ea7-afaf-2f9a61bef87f"
      },
      "execution_count": 130,
      "outputs": [
        {
          "output_type": "stream",
          "name": "stderr",
          "text": [
            "/usr/local/lib/python3.11/dist-packages/sklearn/linear_model/_logistic.py:465: ConvergenceWarning: lbfgs failed to converge (status=1):\n",
            "STOP: TOTAL NO. of ITERATIONS REACHED LIMIT.\n",
            "\n",
            "Increase the number of iterations (max_iter) or scale the data as shown in:\n",
            "    https://scikit-learn.org/stable/modules/preprocessing.html\n",
            "Please also refer to the documentation for alternative solver options:\n",
            "    https://scikit-learn.org/stable/modules/linear_model.html#logistic-regression\n",
            "  n_iter_i = _check_optimize_result(\n"
          ]
        },
        {
          "output_type": "stream",
          "name": "stdout",
          "text": [
            "[ True False  True ...  True  True  True]\n"
          ]
        }
      ]
    },
    {
      "cell_type": "markdown",
      "source": [
        "Score Obtenido:"
      ],
      "metadata": {
        "id": "Q5zHEUBj4WUd"
      }
    },
    {
      "cell_type": "markdown",
      "source": [
        "![Captura de pantalla 2025-03-31 002706.png](data:image/png;base64,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)"
      ],
      "metadata": {
        "id": "FhaKXwy34Y_d"
      }
    },
    {
      "cell_type": "markdown",
      "source": [
        "ChatGPT fue utilizado para proporcionar explicaciones y ejemplos de como usar algunas funciones."
      ],
      "metadata": {
        "id": "cKAEq9gM2VGT"
      }
    },
    {
      "cell_type": "markdown",
      "source": [
        "Referencias:\n",
        "\n",
        "[Ejemplo de Solución de Prisca Chang](https://www.kaggle.com/code/priscachang/spaceship-titanic-complete-solutions-0-80593#Best-score)\n",
        "\n",
        "[ChatGPT, OpenAI](https://chat.openai.com/)"
      ],
      "metadata": {
        "id": "7vbyQ8Al2pDu"
      }
    }
  ]
}